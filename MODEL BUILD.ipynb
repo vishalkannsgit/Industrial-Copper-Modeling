{
 "cells": [
  {
   "cell_type": "code",
   "execution_count": 1,
   "id": "2451a771",
   "metadata": {},
   "outputs": [
    {
     "name": "stdout",
     "output_type": "stream",
     "text": [
      "                                     id   item_date  quantity tons  \\\n",
      "0  EC06F063-9DF0-440C-8764-0B0C05A4F6AE  20210401.0      54.151139   \n",
      "1  4E5F4B3D-DDDF-499D-AFDE-A3227EC49425  20210401.0     151.447449   \n",
      "2  E140FF1B-2407-4C02-A0DD-780A093B1158  20210401.0     151.447449   \n",
      "3  F8D507A0-9C62-4EFE-831E-33E1DA53BB50  20210401.0     151.447449   \n",
      "4  4E1C4E78-152B-430A-8094-ADD889C9D0AD  20210401.0     151.447449   \n",
      "\n",
      "     customer  country status item type  application  thickness   width  \\\n",
      "0  30156308.0     28.0    Won         W         10.0       2.00  1500.0   \n",
      "1  30202938.0     25.0    Won         W         41.0       0.80  1210.0   \n",
      "2  30153963.0     30.0    Won        WI         28.0       0.38   952.0   \n",
      "3  30349574.0     32.0    Won         S         59.0       2.30  1317.0   \n",
      "4  30211560.0     28.0    Won         W         10.0       4.00  1980.0   \n",
      "\n",
      "              material_ref  product_ref  delivery date  selling_price  \n",
      "0              DEQ1 S460MC   1670798778     20210701.0         854.00  \n",
      "1                  DX51D+Z   1668701718     20210401.0        1047.00  \n",
      "2                 S0380700       628377     20210101.0         644.33  \n",
      "3  DX51D+ZM310MAO 2.3X1317   1668701718     20210101.0         768.00  \n",
      "4          2_S275JR+AR-CL1       640665     20210301.0         577.00  \n"
     ]
    }
   ],
   "source": [
    "import pandas as pd\n",
    "cleaned_csv_path = \"CSV/cleaned_data.csv\" \n",
    "data = pd.read_csv(cleaned_csv_path)\n",
    "print(data.head())\n"
   ]
  },
  {
   "cell_type": "code",
   "execution_count": 2,
   "id": "be598c26",
   "metadata": {},
   "outputs": [],
   "source": [
    "\n",
    "X_price = data[[\"thickness\", \"width\", \"quantity tons\"]]  # Make sure these columns exist in your data\n",
    "y_price = data[\"selling_price\"]  # Label for price prediction\n"
   ]
  },
  {
   "cell_type": "code",
   "execution_count": 3,
   "id": "7b9e5492",
   "metadata": {},
   "outputs": [],
   "source": [
    "# Features for status classification\n",
    "X_status = data[[\"thickness\", \"width\", \"quantity tons\"]]  # Use the same features as price prediction\n",
    "y_status = data[\"status\"]  # Label for status classification\n"
   ]
  },
  {
   "cell_type": "code",
   "execution_count": 4,
   "id": "c1abcc45",
   "metadata": {},
   "outputs": [],
   "source": [
    "from sklearn.model_selection import train_test_split\n",
    "\n",
    "# Split the data for price prediction\n",
    "X_price_train, X_price_test, y_price_train, y_price_test = train_test_split(X_price, y_price, test_size=0.2, random_state=42)\n",
    "\n",
    "# Split the data for status classification\n",
    "X_status_train, X_status_test, y_status_train, y_status_test = train_test_split(X_status, y_status, test_size=0.2, random_state=42)\n"
   ]
  },
  {
   "cell_type": "code",
   "execution_count": 5,
   "id": "393bc0ac",
   "metadata": {},
   "outputs": [],
   "source": [
    "from sklearn.preprocessing import StandardScaler\n",
    "\n",
    "# Initialize the scaler\n",
    "scaler = StandardScaler()\n",
    "\n",
    "# Fit and transform the training data for price prediction\n",
    "X_price_train_scaled = scaler.fit_transform(X_price_train)\n",
    "\n",
    "# Transform the test data for price prediction\n",
    "X_price_test_scaled = scaler.transform(X_price_test)\n",
    "\n",
    "# Fit and transform the training data for status classification\n",
    "X_status_train_scaled = scaler.fit_transform(X_status_train)\n",
    "\n",
    "# Transform the test data for status classification\n",
    "X_status_test_scaled = scaler.transform(X_status_test)\n"
   ]
  },
  {
   "cell_type": "code",
   "execution_count": 6,
   "id": "4389d82a",
   "metadata": {},
   "outputs": [
    {
     "data": {
      "text/html": [
       "<style>#sk-container-id-1 {color: black;}#sk-container-id-1 pre{padding: 0;}#sk-container-id-1 div.sk-toggleable {background-color: white;}#sk-container-id-1 label.sk-toggleable__label {cursor: pointer;display: block;width: 100%;margin-bottom: 0;padding: 0.3em;box-sizing: border-box;text-align: center;}#sk-container-id-1 label.sk-toggleable__label-arrow:before {content: \"▸\";float: left;margin-right: 0.25em;color: #696969;}#sk-container-id-1 label.sk-toggleable__label-arrow:hover:before {color: black;}#sk-container-id-1 div.sk-estimator:hover label.sk-toggleable__label-arrow:before {color: black;}#sk-container-id-1 div.sk-toggleable__content {max-height: 0;max-width: 0;overflow: hidden;text-align: left;background-color: #f0f8ff;}#sk-container-id-1 div.sk-toggleable__content pre {margin: 0.2em;color: black;border-radius: 0.25em;background-color: #f0f8ff;}#sk-container-id-1 input.sk-toggleable__control:checked~div.sk-toggleable__content {max-height: 200px;max-width: 100%;overflow: auto;}#sk-container-id-1 input.sk-toggleable__control:checked~label.sk-toggleable__label-arrow:before {content: \"▾\";}#sk-container-id-1 div.sk-estimator input.sk-toggleable__control:checked~label.sk-toggleable__label {background-color: #d4ebff;}#sk-container-id-1 div.sk-label input.sk-toggleable__control:checked~label.sk-toggleable__label {background-color: #d4ebff;}#sk-container-id-1 input.sk-hidden--visually {border: 0;clip: rect(1px 1px 1px 1px);clip: rect(1px, 1px, 1px, 1px);height: 1px;margin: -1px;overflow: hidden;padding: 0;position: absolute;width: 1px;}#sk-container-id-1 div.sk-estimator {font-family: monospace;background-color: #f0f8ff;border: 1px dotted black;border-radius: 0.25em;box-sizing: border-box;margin-bottom: 0.5em;}#sk-container-id-1 div.sk-estimator:hover {background-color: #d4ebff;}#sk-container-id-1 div.sk-parallel-item::after {content: \"\";width: 100%;border-bottom: 1px solid gray;flex-grow: 1;}#sk-container-id-1 div.sk-label:hover label.sk-toggleable__label {background-color: #d4ebff;}#sk-container-id-1 div.sk-serial::before {content: \"\";position: absolute;border-left: 1px solid gray;box-sizing: border-box;top: 0;bottom: 0;left: 50%;z-index: 0;}#sk-container-id-1 div.sk-serial {display: flex;flex-direction: column;align-items: center;background-color: white;padding-right: 0.2em;padding-left: 0.2em;position: relative;}#sk-container-id-1 div.sk-item {position: relative;z-index: 1;}#sk-container-id-1 div.sk-parallel {display: flex;align-items: stretch;justify-content: center;background-color: white;position: relative;}#sk-container-id-1 div.sk-item::before, #sk-container-id-1 div.sk-parallel-item::before {content: \"\";position: absolute;border-left: 1px solid gray;box-sizing: border-box;top: 0;bottom: 0;left: 50%;z-index: -1;}#sk-container-id-1 div.sk-parallel-item {display: flex;flex-direction: column;z-index: 1;position: relative;background-color: white;}#sk-container-id-1 div.sk-parallel-item:first-child::after {align-self: flex-end;width: 50%;}#sk-container-id-1 div.sk-parallel-item:last-child::after {align-self: flex-start;width: 50%;}#sk-container-id-1 div.sk-parallel-item:only-child::after {width: 0;}#sk-container-id-1 div.sk-dashed-wrapped {border: 1px dashed gray;margin: 0 0.4em 0.5em 0.4em;box-sizing: border-box;padding-bottom: 0.4em;background-color: white;}#sk-container-id-1 div.sk-label label {font-family: monospace;font-weight: bold;display: inline-block;line-height: 1.2em;}#sk-container-id-1 div.sk-label-container {text-align: center;}#sk-container-id-1 div.sk-container {/* jupyter's `normalize.less` sets `[hidden] { display: none; }` but bootstrap.min.css set `[hidden] { display: none !important; }` so we also need the `!important` here to be able to override the default hidden behavior on the sphinx rendered scikit-learn.org. See: https://github.com/scikit-learn/scikit-learn/issues/21755 */display: inline-block !important;position: relative;}#sk-container-id-1 div.sk-text-repr-fallback {display: none;}</style><div id=\"sk-container-id-1\" class=\"sk-top-container\"><div class=\"sk-text-repr-fallback\"><pre>LogisticRegression(max_iter=1000)</pre><b>In a Jupyter environment, please rerun this cell to show the HTML representation or trust the notebook. <br />On GitHub, the HTML representation is unable to render, please try loading this page with nbviewer.org.</b></div><div class=\"sk-container\" hidden><div class=\"sk-item\"><div class=\"sk-estimator sk-toggleable\"><input class=\"sk-toggleable__control sk-hidden--visually\" id=\"sk-estimator-id-1\" type=\"checkbox\" checked><label for=\"sk-estimator-id-1\" class=\"sk-toggleable__label sk-toggleable__label-arrow\">LogisticRegression</label><div class=\"sk-toggleable__content\"><pre>LogisticRegression(max_iter=1000)</pre></div></div></div></div></div>"
      ],
      "text/plain": [
       "LogisticRegression(max_iter=1000)"
      ]
     },
     "execution_count": 6,
     "metadata": {},
     "output_type": "execute_result"
    }
   ],
   "source": [
    "from sklearn.linear_model import LinearRegression, LogisticRegression\n",
    "\n",
    "# Train the Linear Regression model for price prediction\n",
    "price_model = LinearRegression()\n",
    "price_model.fit(X_price_train_scaled, y_price_train)\n",
    "\n",
    "# Train the Logistic Regression model for status classification\n",
    "status_model = LogisticRegression(max_iter=1000)  # Increase max_iter if needed\n",
    "status_model.fit(X_status_train_scaled, y_status_train)\n"
   ]
  },
  {
   "cell_type": "code",
   "execution_count": 7,
   "id": "b032982f",
   "metadata": {},
   "outputs": [
    {
     "name": "stdout",
     "output_type": "stream",
     "text": [
      "Mean Absolute Error for Price Prediction: 154.4630443544827\n",
      "Accuracy for Status Classification: 0.6390983651676116\n"
     ]
    },
    {
     "name": "stderr",
     "output_type": "stream",
     "text": [
      "C:\\Users\\Vishal\\anaconda3\\Lib\\site-packages\\sklearn\\metrics\\_classification.py:1469: UndefinedMetricWarning: Precision and F-score are ill-defined and being set to 0.0 in labels with no predicted samples. Use `zero_division` parameter to control this behavior.\n",
      "  _warn_prf(average, modifier, msg_start, len(result))\n",
      "C:\\Users\\Vishal\\anaconda3\\Lib\\site-packages\\sklearn\\metrics\\_classification.py:1469: UndefinedMetricWarning: Precision and F-score are ill-defined and being set to 0.0 in labels with no predicted samples. Use `zero_division` parameter to control this behavior.\n",
      "  _warn_prf(average, modifier, msg_start, len(result))\n"
     ]
    },
    {
     "name": "stdout",
     "output_type": "stream",
     "text": [
      "Confusion Matrix for Status Classification:\n",
      "[[    0     0     0     0     0     0     0   656]\n",
      " [    0    43     0     0     0     0     0  6726]\n",
      " [    0    13     0     0     0     0     0  3942]\n",
      " [    0     0     0     0     0     0     0     2]\n",
      " [    0     0     0     0     0     0     0    11]\n",
      " [    0     4     0     0     0     0     0   856]\n",
      " [    0     1     0     0     0     0     0   824]\n",
      " [    0    78     0     0     0     0     0 23178]]\n",
      "\n",
      "Classification Report for Status Classification:\n",
      "                 precision    recall  f1-score   support\n",
      "\n",
      "          Draft       0.00      0.00      0.00       656\n",
      "           Lost       0.31      0.01      0.01      6769\n",
      "Not lost for AM       0.00      0.00      0.00      3955\n",
      "      Offerable       0.00      0.00      0.00         2\n",
      "        Offered       0.00      0.00      0.00        11\n",
      "        Revised       0.00      0.00      0.00       860\n",
      " To be approved       0.00      0.00      0.00       825\n",
      "            Won       0.64      1.00      0.78     23256\n",
      "\n",
      "       accuracy                           0.64     36334\n",
      "      macro avg       0.12      0.13      0.10     36334\n",
      "   weighted avg       0.47      0.64      0.50     36334\n",
      "\n"
     ]
    },
    {
     "name": "stderr",
     "output_type": "stream",
     "text": [
      "C:\\Users\\Vishal\\anaconda3\\Lib\\site-packages\\sklearn\\metrics\\_classification.py:1469: UndefinedMetricWarning: Precision and F-score are ill-defined and being set to 0.0 in labels with no predicted samples. Use `zero_division` parameter to control this behavior.\n",
      "  _warn_prf(average, modifier, msg_start, len(result))\n"
     ]
    }
   ],
   "source": [
    "from sklearn.metrics import mean_absolute_error, accuracy_score, confusion_matrix, classification_report\n",
    "\n",
    "# Predicting prices\n",
    "y_price_pred = price_model.predict(X_price_test_scaled)\n",
    "\n",
    "# Calculate MAE for price prediction\n",
    "mae = mean_absolute_error(y_price_test, y_price_pred)\n",
    "print(f'Mean Absolute Error for Price Prediction: {mae}')\n",
    "\n",
    "# Predicting status\n",
    "y_status_pred = status_model.predict(X_status_test_scaled)\n",
    "\n",
    "# Calculate accuracy for status classification\n",
    "accuracy = accuracy_score(y_status_test, y_status_pred)\n",
    "print(f'Accuracy for Status Classification: {accuracy}')\n",
    "\n",
    "# Confusion Matrix and Classification Report for status classification\n",
    "confusion = confusion_matrix(y_status_test, y_status_pred)\n",
    "report = classification_report(y_status_test, y_status_pred)\n",
    "\n",
    "print(\"Confusion Matrix for Status Classification:\")\n",
    "print(confusion)\n",
    "print(\"\\nClassification Report for Status Classification:\")\n",
    "print(report)\n"
   ]
  },
  {
   "cell_type": "code",
   "execution_count": 8,
   "id": "aa1bc10e",
   "metadata": {},
   "outputs": [],
   "source": [
    "from sklearn.model_selection import GridSearchCV"
   ]
  },
  {
   "cell_type": "code",
   "execution_count": 9,
   "id": "13be79aa",
   "metadata": {},
   "outputs": [],
   "source": [
    "param_grid = {\n",
    "    'C': [0.001, 0.01, 0.1, 1, 10, 100],  # Inverse of regularization strength\n",
    "    'solver': ['liblinear', 'lbfgs', 'saga'],  # Different solvers\n",
    "    'max_iter': [100, 500, 1000]  # Maximum number of iterations\n",
    "}\n"
   ]
  },
  {
   "cell_type": "code",
   "execution_count": 10,
   "id": "0b626152",
   "metadata": {},
   "outputs": [],
   "source": [
    "grid_search = GridSearchCV(LogisticRegression(), param_grid, cv=5, scoring='accuracy', n_jobs=-1)\n"
   ]
  },
  {
   "cell_type": "code",
   "execution_count": 11,
   "id": "eb311f6d",
   "metadata": {},
   "outputs": [],
   "source": [
    "X = data[[\"thickness\", \"width\", \"quantity tons\"]]  # Adjust based on your DataFrame's column names\n",
    "y = data[\"status\"]  # Label for classification\n",
    "\n"
   ]
  },
  {
   "cell_type": "code",
   "execution_count": 12,
   "id": "c914acf1",
   "metadata": {},
   "outputs": [],
   "source": [
    "from sklearn.model_selection import train_test_split\n",
    "\n",
    "X_train, X_test, y_train, y_test = train_test_split(X, y, test_size=0.2, random_state=42)\n"
   ]
  },
  {
   "cell_type": "code",
   "execution_count": 13,
   "id": "f06808e1",
   "metadata": {},
   "outputs": [],
   "source": [
    "from sklearn.preprocessing import StandardScaler\n",
    "\n",
    "scaler = StandardScaler()\n",
    "X_train_scaled = scaler.fit_transform(X_train)\n",
    "X_test_scaled = scaler.transform(X_test)\n"
   ]
  },
  {
   "cell_type": "code",
   "execution_count": 14,
   "id": "ace573d0",
   "metadata": {},
   "outputs": [],
   "source": [
    "from sklearn.linear_model import LogisticRegression\n",
    "from sklearn.model_selection import GridSearchCV\n"
   ]
  },
  {
   "cell_type": "code",
   "execution_count": 15,
   "id": "74fe2716",
   "metadata": {},
   "outputs": [],
   "source": [
    "param_grid = {\n",
    "    'C': [0.001, 0.01, 0.1, 1, 10, 100],  # Inverse of regularization strength\n",
    "    'solver': ['liblinear', 'lbfgs', 'saga'],  # Different solvers\n",
    "    'max_iter': [100, 500, 1000]  # Maximum number of iterations\n",
    "}\n"
   ]
  },
  {
   "cell_type": "code",
   "execution_count": 16,
   "id": "a773eacd",
   "metadata": {},
   "outputs": [],
   "source": [
    "grid_search = GridSearchCV(LogisticRegression(), param_grid, cv=5, scoring='accuracy', n_jobs=-1)\n"
   ]
  },
  {
   "cell_type": "code",
   "execution_count": 19,
   "id": "db330243",
   "metadata": {},
   "outputs": [
    {
     "ename": "NameError",
     "evalue": "name 'model' is not defined",
     "output_type": "error",
     "traceback": [
      "\u001b[1;31m---------------------------------------------------------------------------\u001b[0m",
      "\u001b[1;31mNameError\u001b[0m                                 Traceback (most recent call last)",
      "Cell \u001b[1;32mIn[19], line 2\u001b[0m\n\u001b[0;32m      1\u001b[0m \u001b[38;5;28;01mimport\u001b[39;00m \u001b[38;5;21;01mjoblib\u001b[39;00m\n\u001b[1;32m----> 2\u001b[0m joblib\u001b[38;5;241m.\u001b[39mdump(model, \u001b[38;5;124m'\u001b[39m\u001b[38;5;124mlogistic_regression_model.joblib\u001b[39m\u001b[38;5;124m'\u001b[39m)\n\u001b[0;32m      3\u001b[0m \u001b[38;5;28mprint\u001b[39m(\u001b[38;5;124m\"\u001b[39m\u001b[38;5;124mModel saved as \u001b[39m\u001b[38;5;124m'\u001b[39m\u001b[38;5;124mlogistic_regression_model.joblib\u001b[39m\u001b[38;5;124m'\u001b[39m\u001b[38;5;124m\"\u001b[39m)\n",
      "\u001b[1;31mNameError\u001b[0m: name 'model' is not defined"
     ]
    }
   ],
   "source": [
    "import joblib\n",
    "joblib.dump(model, 'logistic_regression_model.joblib')\n",
    "print(\"Model saved as 'logistic_regression_model.joblib'\")\n"
   ]
  },
  {
   "cell_type": "code",
   "execution_count": 20,
   "id": "490ef22f",
   "metadata": {},
   "outputs": [
    {
     "name": "stdout",
     "output_type": "stream",
     "text": [
      "Price prediction model saved as 'linear_regression_price_model.joblib'\n",
      "Status classification model saved as 'logistic_regression_status_model.joblib'\n"
     ]
    }
   ],
   "source": [
    "# Save the Linear Regression model\n",
    "joblib.dump(price_model, 'linear_regression_price_model.joblib')\n",
    "print(\"Price prediction model saved as 'linear_regression_price_model.joblib'\")\n",
    "\n",
    "# Save the Logistic Regression model\n",
    "joblib.dump(status_model, 'logistic_regression_status_model.joblib')\n",
    "print(\"Status classification model saved as 'logistic_regression_status_model.joblib'\")\n"
   ]
  },
  {
   "cell_type": "code",
   "execution_count": 22,
   "id": "ea80cbf7",
   "metadata": {},
   "outputs": [
    {
     "name": "stdout",
     "output_type": "stream",
     "text": [
      "Predicted Price: [1225.8100823]\n",
      "Predicted Status: [1]\n"
     ]
    }
   ],
   "source": [
    "import numpy as np\n",
    "from sklearn.linear_model import LinearRegression, LogisticRegression\n",
    "import joblib\n",
    "from sklearn.model_selection import train_test_split\n",
    "from sklearn.preprocessing import StandardScaler\n",
    "\n",
    "# Sample dataset creation for price prediction\n",
    "np.random.seed(42)  # For reproducibility\n",
    "X_price = np.random.rand(100, 2)  # 100 samples, 2 features\n",
    "y_price = X_price @ np.array([150, 300]) + 1000 + np.random.randn(100) * 10  # Linear relationship with noise\n",
    "\n",
    "# Sample dataset creation for status classification\n",
    "X_status = np.random.rand(100, 2)  # 100 samples, 2 features\n",
    "y_status = (X_status[:, 0] + X_status[:, 1] > 1).astype(int)  # Simple binary classification\n",
    "\n",
    "# Splitting the dataset into training and testing sets\n",
    "X_price_train, X_price_test, y_price_train, y_price_test = train_test_split(X_price, y_price, test_size=0.2, random_state=42)\n",
    "X_status_train, X_status_test, y_status_train, y_status_test = train_test_split(X_status, y_status, test_size=0.2, random_state=42)\n",
    "\n",
    "# Scaling the features\n",
    "scaler_price = StandardScaler()\n",
    "X_price_train_scaled = scaler_price.fit_transform(X_price_train)\n",
    "X_price_test_scaled = scaler_price.transform(X_price_test)\n",
    "\n",
    "scaler_status = StandardScaler()\n",
    "X_status_train_scaled = scaler_status.fit_transform(X_status_train)\n",
    "X_status_test_scaled = scaler_status.transform(X_status_test)\n",
    "\n",
    "# Train the Linear Regression model for price prediction\n",
    "price_model = LinearRegression()\n",
    "price_model.fit(X_price_train_scaled, y_price_train)\n",
    "\n",
    "# Train the Logistic Regression model for status classification\n",
    "status_model = LogisticRegression(max_iter=1000)\n",
    "status_model.fit(X_status_train_scaled, y_status_train)\n",
    "\n",
    "# Save the models\n",
    "joblib.dump(price_model, 'linear_regression_price_model.joblib')\n",
    "joblib.dump(status_model, 'logistic_regression_status_model.joblib')\n",
    "\n",
    "# Load the models\n",
    "loaded_price_model = joblib.load('linear_regression_price_model.joblib')\n",
    "loaded_status_model = joblib.load('logistic_regression_status_model.joblib')\n",
    "\n",
    "# Example prediction for price\n",
    "sample_price_input = scaler_price.transform([[0.5, 0.5]])  # Example scaled input\n",
    "predicted_price = loaded_price_model.predict(sample_price_input)\n",
    "print(\"Predicted Price:\", predicted_price)\n",
    "\n",
    "# Example prediction for status\n",
    "sample_status_input = scaler_status.transform([[0.7, 0.4]])  # Example scaled input\n",
    "predicted_status = loaded_status_model.predict(sample_status_input)\n",
    "print(\"Predicted Status:\", predicted_status)\n"
   ]
  },
  {
   "cell_type": "code",
   "execution_count": 23,
   "id": "875d245c",
   "metadata": {},
   "outputs": [
    {
     "name": "stdout",
     "output_type": "stream",
     "text": [
      "Models saved successfully.\n"
     ]
    }
   ],
   "source": [
    "from sklearn.linear_model import LinearRegression, LogisticRegression\n",
    "import joblib\n",
    "price_model = LinearRegression()\n",
    "price_model.fit(X_price_train_scaled, y_price_train)\n",
    "status_model = LogisticRegression(max_iter=1000)\n",
    "status_model.fit(X_status_train_scaled, y_status_train)\n",
    "# Save the models\n",
    "joblib.dump(price_model, 'price_model.pkl')\n",
    "joblib.dump(status_model, 'status_model.pkl')\n",
    "print(\"Models saved successfully.\")"
   ]
  },
  {
   "cell_type": "code",
   "execution_count": null,
   "id": "02b8c5a4",
   "metadata": {},
   "outputs": [],
   "source": []
  }
 ],
 "metadata": {
  "kernelspec": {
   "display_name": "Python 3 (ipykernel)",
   "language": "python",
   "name": "python3"
  },
  "language_info": {
   "codemirror_mode": {
    "name": "ipython",
    "version": 3
   },
   "file_extension": ".py",
   "mimetype": "text/x-python",
   "name": "python",
   "nbconvert_exporter": "python",
   "pygments_lexer": "ipython3",
   "version": "3.11.5"
  }
 },
 "nbformat": 4,
 "nbformat_minor": 5
}
